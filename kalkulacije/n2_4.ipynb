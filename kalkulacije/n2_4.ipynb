{
 "cells": [
  {
   "cell_type": "code",
   "execution_count": 1,
   "metadata": {},
   "outputs": [],
   "source": [
    "import numpy as np\n",
    "import matplotlib.pyplot as plt\n",
    "from sympy import *\n",
    "\n",
    "plt.rcParams['figure.figsize'] = [20, 10]\n"
   ]
  },
  {
   "cell_type": "code",
   "execution_count": 2,
   "metadata": {},
   "outputs": [],
   "source": [
    "x, x0, y, y0, r, r0, theta, theta0, phi, phi0, R = symbols('x x_0 y y_0 r r_0 theta theta0 phi phi_0 R')\n",
    "a, b, c = symbols('a b c')"
   ]
  },
  {
   "cell_type": "code",
   "execution_count": 12,
   "metadata": {},
   "outputs": [
    {
     "data": {
      "text/latex": [
       "$\\displaystyle \\frac{\\left(- 2 x \\left(x^{2} + y^{2} + 1\\right) \\operatorname{atan}{\\left(\\frac{- 2 y + \\left(y^{2} + \\left(x + 1\\right)^{2}\\right) \\tan{\\left(\\frac{\\phi}{2} \\right)}}{\\left|{x^{2} + y^{2} - 1}\\right|} \\right)} + \\left(\\phi x + y \\log{\\left(\\left|{x \\left(x - 2 \\cos{\\left(\\phi \\right)}\\right) + y \\left(y - 2 \\sin{\\left(\\phi \\right)}\\right) + 1}\\right| \\right)}\\right) \\left|{x^{2} + y^{2} - 1}\\right|\\right) \\left(x^{2} + y^{2} - 1\\right)}{\\left(2 x^{2} + 2 y^{2}\\right) \\left|{x^{2} + y^{2} - 1}\\right|}$"
      ],
      "text/plain": [
       "(-2*x*(x**2 + y**2 + 1)*atan((-2*y + (y**2 + (x + 1)**2)*tan(phi/2))/Abs(x**2 + y**2 - 1)) + (phi*x + y*log(Abs(x*(x - 2*cos(phi)) + y*(y - 2*sin(phi)) + 1)))*Abs(x**2 + y**2 - 1))*(x**2 + y**2 - 1)/((2*x**2 + 2*y**2)*Abs(x**2 + y**2 - 1))"
      ]
     },
     "execution_count": 12,
     "metadata": {},
     "output_type": "execute_result"
    }
   ],
   "source": [
    "expr = ((y**2+x**2-1)*(abs(y**2+x**2-1)*(y*ln(abs(y*(2*sin(phi)-y)+x*(2*cos(phi)-x)-1))+x*phi)-2*x*(y**2+x**2+1)*atan(((y**2+(x+1)**2)*tan(phi/2)-2*y)/abs(y**2+x**2-1))))/(2*(y**2+x**2)*abs(y**2+x**2-1))\n",
    "\n",
    "expr"
   ]
  },
  {
   "cell_type": "code",
   "execution_count": 31,
   "metadata": {},
   "outputs": [
    {
     "data": {
      "text/latex": [
       "$\\displaystyle \\frac{\\left(- 2 x \\left(x^{2} + y^{2} + 1\\right) \\operatorname{atan}{\\left(\\frac{y^{2} - 2 y + \\left(x + 1\\right)^{2}}{\\left|{x^{2} + y^{2} - 1}\\right|} \\right)} + \\left(\\frac{\\pi x}{2} + y \\log{\\left(\\left|{x^{2} + y \\left(y - 2\\right) + 1}\\right| \\right)}\\right) \\left|{x^{2} + y^{2} - 1}\\right|\\right) \\left(x^{2} + y^{2} - 1\\right)}{\\left(2 x^{2} + 2 y^{2}\\right) \\left|{x^{2} + y^{2} - 1}\\right|}$"
      ],
      "text/plain": [
       "(-2*x*(x**2 + y**2 + 1)*atan((y**2 - 2*y + (x + 1)**2)/Abs(x**2 + y**2 - 1)) + (pi*x/2 + y*log(Abs(x**2 + y*(y - 2) + 1)))*Abs(x**2 + y**2 - 1))*(x**2 + y**2 - 1)/((2*x**2 + 2*y**2)*Abs(x**2 + y**2 - 1))"
      ]
     },
     "execution_count": 31,
     "metadata": {},
     "output_type": "execute_result"
    }
   ],
   "source": [
    "er = expr.subs({phi: pi/2})\n",
    "\n",
    "er"
   ]
  },
  {
   "cell_type": "code",
   "execution_count": 32,
   "metadata": {},
   "outputs": [
    {
     "data": {
      "text/latex": [
       "$\\displaystyle \\frac{\\left(- 2 x \\left(x^{2} + y^{2} + 1\\right) \\operatorname{atan}{\\left(\\frac{- y^{2} - 2 y - \\left(x + 1\\right)^{2}}{\\left|{x^{2} + y^{2} - 1}\\right|} \\right)} + \\left(- \\frac{\\pi x}{2} + y \\log{\\left(\\left|{x^{2} + y \\left(y + 2\\right) + 1}\\right| \\right)}\\right) \\left|{x^{2} + y^{2} - 1}\\right|\\right) \\left(x^{2} + y^{2} - 1\\right)}{\\left(2 x^{2} + 2 y^{2}\\right) \\left|{x^{2} + y^{2} - 1}\\right|}$"
      ],
      "text/plain": [
       "(-2*x*(x**2 + y**2 + 1)*atan((-y**2 - 2*y - (x + 1)**2)/Abs(x**2 + y**2 - 1)) + (-pi*x/2 + y*log(Abs(x**2 + y*(y + 2) + 1)))*Abs(x**2 + y**2 - 1))*(x**2 + y**2 - 1)/((2*x**2 + 2*y**2)*Abs(x**2 + y**2 - 1))"
      ]
     },
     "execution_count": 32,
     "metadata": {},
     "output_type": "execute_result"
    }
   ],
   "source": [
    "el = expr.subs({phi: -pi/2})\n",
    "\n",
    "el"
   ]
  },
  {
   "cell_type": "code",
   "execution_count": 55,
   "metadata": {},
   "outputs": [
    {
     "data": {
      "text/latex": [
       "$\\displaystyle \\frac{\\left(x^{2} + y^{2} - 1\\right) \\left(- 4 x \\left(x^{2} + y^{2} + 1\\right) \\operatorname{atan}{\\left(\\frac{y^{2} - 2 y + \\left(x + 1\\right)^{2}}{\\left|{x^{2} + y^{2} - 1}\\right|} \\right)} - 4 x \\left(x^{2} + y^{2} + 1\\right) \\operatorname{atan}{\\left(\\frac{y^{2} + 2 y + \\left(x + 1\\right)^{2}}{\\left|{x^{2} + y^{2} - 1}\\right|} \\right)} + \\left(\\pi x + 2 y \\log{\\left(\\left|{x^{2} + y \\left(y - 2\\right) + 1}\\right| \\right)}\\right) \\left|{x^{2} + y^{2} - 1}\\right| + \\left(\\pi x - 2 y \\log{\\left(\\left|{x^{2} + y \\left(y + 2\\right) + 1}\\right| \\right)}\\right) \\left|{x^{2} + y^{2} - 1}\\right|\\right)}{4 \\left(x^{2} + y^{2}\\right) \\left|{x^{2} + y^{2} - 1}\\right|}$"
      ],
      "text/plain": [
       "(x**2 + y**2 - 1)*(-4*x*(x**2 + y**2 + 1)*atan((y**2 - 2*y + (x + 1)**2)/Abs(x**2 + y**2 - 1)) - 4*x*(x**2 + y**2 + 1)*atan((y**2 + 2*y + (x + 1)**2)/Abs(x**2 + y**2 - 1)) + (pi*x + 2*y*log(Abs(x**2 + y*(y - 2) + 1)))*Abs(x**2 + y**2 - 1) + (pi*x - 2*y*log(Abs(x**2 + y*(y + 2) + 1)))*Abs(x**2 + y**2 - 1))/(4*(x**2 + y**2)*Abs(x**2 + y**2 - 1))"
      ]
     },
     "execution_count": 55,
     "metadata": {},
     "output_type": "execute_result"
    }
   ],
   "source": [
    "final = er-el\n",
    "\n",
    "final.simplify()"
   ]
  },
  {
   "cell_type": "code",
   "execution_count": 96,
   "metadata": {},
   "outputs": [
    {
     "data": {
      "text/latex": [
       "$\\displaystyle 0.0840695744474458$"
      ],
      "text/plain": [
       "0.0840695744474458"
      ]
     },
     "execution_count": 96,
     "metadata": {},
     "output_type": "execute_result"
    }
   ],
   "source": [
    "final.subs({x: -0.6, y: -0.2}).evalf()/(2*np.pi)"
   ]
  },
  {
   "cell_type": "code",
   "execution_count": 99,
   "metadata": {},
   "outputs": [
    {
     "data": {
      "text/latex": [
       "$\\displaystyle \\frac{2 x \\left(\\operatorname{atan}{\\left(\\frac{y^{2} - 2 y + \\left(x + 1\\right)^{2}}{- x^{2} - y^{2} + 1} \\right)} + \\operatorname{atan}{\\left(\\frac{y^{2} + 2 y + \\left(x + 1\\right)^{2}}{- x^{2} - y^{2} + 1} \\right)}\\right) \\left(x^{2} + y^{2} + 1\\right) + \\left(\\pi x + y \\log{\\left(\\frac{x^{2} + y \\left(y - 2\\right) + 1}{x^{2} + y \\left(y + 2\\right) + 1} \\right)}\\right) \\left(x^{2} + y^{2} - 1\\right)}{2 x^{2} + 2 y^{2}}$"
      ],
      "text/plain": [
       "(2*x*(atan((y**2 - 2*y + (x + 1)**2)/(-x**2 - y**2 + 1)) + atan((y**2 + 2*y + (x + 1)**2)/(-x**2 - y**2 + 1)))*(x**2 + y**2 + 1) + (pi*x + y*log((x**2 + y*(y - 2) + 1)/(x**2 + y*(y + 2) + 1)))*(x**2 + y**2 - 1))/(2*x**2 + 2*y**2)"
      ]
     },
     "execution_count": 99,
     "metadata": {},
     "output_type": "execute_result"
    }
   ],
   "source": [
    "f2 = (2*x*(x**2 + y**2 + 1)*(atan((y**2 - 2*y + (x + 1)**2)/(1-x**2-y**2))+atan((y**2 + 2*y + (x + 1)**2)/(1-x**2-y**2))) + (pi*x + y*log(  (x**2 + y*(y - 2) + 1)/(x**2 + y*(y + 2) + 1)))*(x**2+y**2-1))/(2*(x**2 + y**2))\n",
    "\n",
    "f2"
   ]
  },
  {
   "cell_type": "code",
   "execution_count": 101,
   "metadata": {},
   "outputs": [
    {
     "name": "stdout",
     "output_type": "stream",
     "text": [
      "(2*x*(atan((y**2 - 2*y + (x + 1)**2)/(-x**2 - y**2 + 1)) + atan((y**2 + 2*y + (x + 1)**2)/(-x**2 - y**2 + 1)))*(x**2 + y**2 + 1) + (pi*x + y*log((x**2 + y*(y - 2) + 1)/(x**2 + y*(y + 2) + 1)))*(x**2 + y**2 - 1))/(2*x**2 + 2*y**2)\n"
     ]
    }
   ],
   "source": [
    "print(f2)"
   ]
  },
  {
   "cell_type": "code",
   "execution_count": 138,
   "metadata": {},
   "outputs": [
    {
     "data": {
      "text/latex": [
       "$\\displaystyle 0.684069574447446$"
      ],
      "text/plain": [
       "0.684069574447446"
      ]
     },
     "execution_count": 138,
     "metadata": {},
     "output_type": "execute_result"
    }
   ],
   "source": [
    "f2.subs({x: 0.6, y: -0.2}).evalf()/(2*np.pi)"
   ]
  },
  {
   "cell_type": "code",
   "execution_count": 127,
   "metadata": {},
   "outputs": [],
   "source": [
    "expr2 = (x*(y**2+x**2+1)*atan(((y**2+(x+1)**2)*tan(phi/2)-2*y)/abs(y**2+x**2-1)))/((y**2+x**2)*abs(y**2+x**2-1))-(y*ln(abs(y*(2*sin(phi)-y)+x*(2*cos(phi)-x)-1))+x*phi)/(2*(y**2+x**2))"
   ]
  },
  {
   "cell_type": "code",
   "execution_count": 128,
   "metadata": {},
   "outputs": [
    {
     "data": {
      "text/latex": [
       "$\\displaystyle \\frac{x \\left(x^{2} + y^{2} + 1\\right) \\operatorname{atan}{\\left(\\frac{y^{2} - 2 y + \\left(x + 1\\right)^{2}}{\\left|{x^{2} + y^{2} - 1}\\right|} \\right)}}{\\left(x^{2} + y^{2}\\right) \\left|{x^{2} + y^{2} - 1}\\right|} - \\frac{\\frac{\\pi x}{2} + y \\log{\\left(\\left|{x^{2} + y \\left(y - 2\\right) + 1}\\right| \\right)}}{2 x^{2} + 2 y^{2}}$"
      ],
      "text/plain": [
       "x*(x**2 + y**2 + 1)*atan((y**2 - 2*y + (x + 1)**2)/Abs(x**2 + y**2 - 1))/((x**2 + y**2)*Abs(x**2 + y**2 - 1)) - (pi*x/2 + y*log(Abs(x**2 + y*(y - 2) + 1)))/(2*x**2 + 2*y**2)"
      ]
     },
     "execution_count": 128,
     "metadata": {},
     "output_type": "execute_result"
    }
   ],
   "source": [
    "er = expr2.subs({phi: pi/2})\n",
    "\n",
    "er"
   ]
  },
  {
   "cell_type": "code",
   "execution_count": 129,
   "metadata": {},
   "outputs": [
    {
     "data": {
      "text/latex": [
       "$\\displaystyle \\frac{x \\left(x^{2} + y^{2} + 1\\right) \\operatorname{atan}{\\left(\\frac{- y^{2} - 2 y - \\left(x + 1\\right)^{2}}{\\left|{x^{2} + y^{2} - 1}\\right|} \\right)}}{\\left(x^{2} + y^{2}\\right) \\left|{x^{2} + y^{2} - 1}\\right|} - \\frac{- \\frac{\\pi x}{2} + y \\log{\\left(\\left|{x^{2} + y \\left(y + 2\\right) + 1}\\right| \\right)}}{2 x^{2} + 2 y^{2}}$"
      ],
      "text/plain": [
       "x*(x**2 + y**2 + 1)*atan((-y**2 - 2*y - (x + 1)**2)/Abs(x**2 + y**2 - 1))/((x**2 + y**2)*Abs(x**2 + y**2 - 1)) - (-pi*x/2 + y*log(Abs(x**2 + y*(y + 2) + 1)))/(2*x**2 + 2*y**2)"
      ]
     },
     "execution_count": 129,
     "metadata": {},
     "output_type": "execute_result"
    }
   ],
   "source": [
    "el = expr2.subs({phi: -pi/2})\n",
    "\n",
    "el"
   ]
  },
  {
   "cell_type": "code",
   "execution_count": 136,
   "metadata": {},
   "outputs": [
    {
     "data": {
      "text/latex": [
       "$\\displaystyle \\frac{x \\left(\\operatorname{atan}{\\left(\\frac{y^{2} - 2 y + \\left(x + 1\\right)^{2}}{\\left|{x^{2} + y^{2} - 1}\\right|} \\right)} + \\operatorname{atan}{\\left(\\frac{y^{2} + 2 y + \\left(x + 1\\right)^{2}}{\\left|{x^{2} + y^{2} - 1}\\right|} \\right)}\\right) \\left(x^{2} + y^{2} + 1\\right) + \\frac{\\left(- \\pi x - y \\log{\\left(\\left|{x^{2} + y \\left(y - 2\\right) + 1}\\right| \\right)} + y \\log{\\left(\\left|{x^{2} + y \\left(y + 2\\right) + 1}\\right| \\right)}\\right) \\left|{x^{2} + y^{2} - 1}\\right|}{2}}{\\left(x^{2} + y^{2}\\right) \\left|{x^{2} + y^{2} - 1}\\right|}$"
      ],
      "text/plain": [
       "(x*(atan((y**2 - 2*y + (x + 1)**2)/Abs(x**2 + y**2 - 1)) + atan((y**2 + 2*y + (x + 1)**2)/Abs(x**2 + y**2 - 1)))*(x**2 + y**2 + 1) + (-pi*x - y*log(Abs(x**2 + y*(y - 2) + 1)) + y*log(Abs(x**2 + y*(y + 2) + 1)))*Abs(x**2 + y**2 - 1)/2)/((x**2 + y**2)*Abs(x**2 + y**2 - 1))"
      ]
     },
     "execution_count": 136,
     "metadata": {},
     "output_type": "execute_result"
    }
   ],
   "source": [
    "final = (er-el)\n",
    "\n",
    "final.simplify()"
   ]
  },
  {
   "cell_type": "code",
   "execution_count": 137,
   "metadata": {},
   "outputs": [
    {
     "data": {
      "text/latex": [
       "$\\displaystyle 0.880374524915053$"
      ],
      "text/plain": [
       "0.880374524915053"
      ]
     },
     "execution_count": 137,
     "metadata": {},
     "output_type": "execute_result"
    }
   ],
   "source": [
    "final.subs({x: -0.6, y: -0.2}).evalf()"
   ]
  },
  {
   "cell_type": "code",
   "execution_count": 70,
   "metadata": {},
   "outputs": [
    {
     "data": {
      "text/latex": [
       "$\\displaystyle \\frac{\\left(- x^{2} - y^{2} + 1\\right) \\cos{\\left(\\theta \\right)}}{2 \\pi \\left(x^{2} - 2 x \\cos{\\left(\\theta \\right)} + y^{2} - 2 y \\sin{\\left(\\theta \\right)} + 1\\right)}$"
      ],
      "text/plain": [
       "(-x**2 - y**2 + 1)*cos(theta)/(2*pi*(x**2 - 2*x*cos(theta) + y**2 - 2*y*sin(theta) + 1))"
      ]
     },
     "execution_count": 70,
     "metadata": {},
     "output_type": "execute_result"
    }
   ],
   "source": [
    "inti = 1/(2*pi) * (1-x**2-y**2) * cos(theta)/(1-2*x*cos(theta)-2*y*sin(theta)+x**2+y**2)\n",
    "inti"
   ]
  },
  {
   "cell_type": "code",
   "execution_count": 72,
   "metadata": {},
   "outputs": [
    {
     "ename": "AttributeError",
     "evalue": "'NoneType' object has no attribute 'primitive'",
     "output_type": "error",
     "traceback": [
      "\u001b[0;31m---------------------------------------------------------------------------\u001b[0m",
      "\u001b[0;31mAttributeError\u001b[0m                            Traceback (most recent call last)",
      "Cell \u001b[0;32mIn[72], line 1\u001b[0m\n\u001b[0;32m----> 1\u001b[0m res \u001b[39m=\u001b[39m integrate(inti, (theta, \u001b[39m-\u001b[39;49mpi\u001b[39m/\u001b[39;49m\u001b[39m2\u001b[39;49m, pi\u001b[39m/\u001b[39;49m\u001b[39m2\u001b[39;49m))\n\u001b[1;32m      2\u001b[0m res\n",
      "File \u001b[0;32m~/.pyenv/versions/3.10.10/lib/python3.10/site-packages/sympy/integrals/integrals.py:1567\u001b[0m, in \u001b[0;36mintegrate\u001b[0;34m(meijerg, conds, risch, heurisch, manual, *args, **kwargs)\u001b[0m\n\u001b[1;32m   1564\u001b[0m integral \u001b[39m=\u001b[39m Integral(\u001b[39m*\u001b[39margs, \u001b[39m*\u001b[39m\u001b[39m*\u001b[39mkwargs)\n\u001b[1;32m   1566\u001b[0m \u001b[39mif\u001b[39;00m \u001b[39misinstance\u001b[39m(integral, Integral):\n\u001b[0;32m-> 1567\u001b[0m     \u001b[39mreturn\u001b[39;00m integral\u001b[39m.\u001b[39;49mdoit(\u001b[39m*\u001b[39;49m\u001b[39m*\u001b[39;49mdoit_flags)\n\u001b[1;32m   1568\u001b[0m \u001b[39melse\u001b[39;00m:\n\u001b[1;32m   1569\u001b[0m     new_args \u001b[39m=\u001b[39m [a\u001b[39m.\u001b[39mdoit(\u001b[39m*\u001b[39m\u001b[39m*\u001b[39mdoit_flags) \u001b[39mif\u001b[39;00m \u001b[39misinstance\u001b[39m(a, Integral) \u001b[39melse\u001b[39;00m a\n\u001b[1;32m   1570\u001b[0m         \u001b[39mfor\u001b[39;00m a \u001b[39min\u001b[39;00m integral\u001b[39m.\u001b[39margs]\n",
      "File \u001b[0;32m~/.pyenv/versions/3.10.10/lib/python3.10/site-packages/sympy/integrals/integrals.py:499\u001b[0m, in \u001b[0;36mIntegral.doit\u001b[0;34m(self, **hints)\u001b[0m\n\u001b[1;32m    497\u001b[0m \u001b[39mif\u001b[39;00m reps:\n\u001b[1;32m    498\u001b[0m     undo \u001b[39m=\u001b[39m {v: k \u001b[39mfor\u001b[39;00m k, v \u001b[39min\u001b[39;00m reps\u001b[39m.\u001b[39mitems()}\n\u001b[0;32m--> 499\u001b[0m     did \u001b[39m=\u001b[39m \u001b[39mself\u001b[39;49m\u001b[39m.\u001b[39;49mxreplace(reps)\u001b[39m.\u001b[39;49mdoit(\u001b[39m*\u001b[39;49m\u001b[39m*\u001b[39;49mhints)\n\u001b[1;32m    500\u001b[0m     \u001b[39mif\u001b[39;00m \u001b[39misinstance\u001b[39m(did, \u001b[39mtuple\u001b[39m):  \u001b[39m# when separate=True\u001b[39;00m\n\u001b[1;32m    501\u001b[0m         did \u001b[39m=\u001b[39m \u001b[39mtuple\u001b[39m([i\u001b[39m.\u001b[39mxreplace(undo) \u001b[39mfor\u001b[39;00m i \u001b[39min\u001b[39;00m did])\n",
      "File \u001b[0;32m~/.pyenv/versions/3.10.10/lib/python3.10/site-packages/sympy/integrals/integrals.py:612\u001b[0m, in \u001b[0;36mIntegral.doit\u001b[0;34m(self, **hints)\u001b[0m\n\u001b[1;32m    610\u001b[0m     antideriv \u001b[39m=\u001b[39m \u001b[39mNone\u001b[39;00m\n\u001b[1;32m    611\u001b[0m \u001b[39melse\u001b[39;00m:\n\u001b[0;32m--> 612\u001b[0m     antideriv \u001b[39m=\u001b[39m \u001b[39mself\u001b[39;49m\u001b[39m.\u001b[39;49m_eval_integral(\n\u001b[1;32m    613\u001b[0m         function, xab[\u001b[39m0\u001b[39;49m], \u001b[39m*\u001b[39;49m\u001b[39m*\u001b[39;49meval_kwargs)\n\u001b[1;32m    614\u001b[0m     \u001b[39mif\u001b[39;00m antideriv \u001b[39mis\u001b[39;00m \u001b[39mNone\u001b[39;00m \u001b[39mand\u001b[39;00m meijerg \u001b[39mis\u001b[39;00m \u001b[39mTrue\u001b[39;00m:\n\u001b[1;32m    615\u001b[0m         ret \u001b[39m=\u001b[39m try_meijerg(function, xab)\n",
      "File \u001b[0;32m~/.pyenv/versions/3.10.10/lib/python3.10/site-packages/sympy/integrals/integrals.py:1084\u001b[0m, in \u001b[0;36mIntegral._eval_integral\u001b[0;34m(self, f, x, meijerg, risch, manual, heurisch, conds, final)\u001b[0m\n\u001b[1;32m   1082\u001b[0m \u001b[39mtry\u001b[39;00m:\n\u001b[1;32m   1083\u001b[0m     \u001b[39mif\u001b[39;00m conds \u001b[39m==\u001b[39m \u001b[39m'\u001b[39m\u001b[39mpiecewise\u001b[39m\u001b[39m'\u001b[39m:\n\u001b[0;32m-> 1084\u001b[0m         h \u001b[39m=\u001b[39m heurisch_wrapper(g, x, hints\u001b[39m=\u001b[39;49m[])\n\u001b[1;32m   1085\u001b[0m     \u001b[39melse\u001b[39;00m:\n\u001b[1;32m   1086\u001b[0m         h \u001b[39m=\u001b[39m heurisch_(g, x, hints\u001b[39m=\u001b[39m[])\n",
      "File \u001b[0;32m~/.pyenv/versions/3.10.10/lib/python3.10/site-packages/sympy/integrals/heurisch.py:182\u001b[0m, in \u001b[0;36mheurisch_wrapper\u001b[0;34m(f, x, rewrite, hints, mappings, retries, degree_offset, unnecessary_permutations, _try_heurisch)\u001b[0m\n\u001b[1;32m    180\u001b[0m pairs \u001b[39m=\u001b[39m []\n\u001b[1;32m    181\u001b[0m \u001b[39mfor\u001b[39;00m sub_dict \u001b[39min\u001b[39;00m slns:\n\u001b[0;32m--> 182\u001b[0m     expr \u001b[39m=\u001b[39m heurisch(f\u001b[39m.\u001b[39;49msubs(sub_dict), x, rewrite, hints, mappings, retries,\n\u001b[1;32m    183\u001b[0m                     degree_offset, unnecessary_permutations,\n\u001b[1;32m    184\u001b[0m                     _try_heurisch)\n\u001b[1;32m    185\u001b[0m     cond \u001b[39m=\u001b[39m And(\u001b[39m*\u001b[39m[Eq(key, value) \u001b[39mfor\u001b[39;00m key, value \u001b[39min\u001b[39;00m sub_dict\u001b[39m.\u001b[39mitems()])\n\u001b[1;32m    186\u001b[0m     generic \u001b[39m=\u001b[39m Or(\u001b[39m*\u001b[39m[Ne(key, value) \u001b[39mfor\u001b[39;00m key, value \u001b[39min\u001b[39;00m sub_dict\u001b[39m.\u001b[39mitems()])\n",
      "File \u001b[0;32m~/.pyenv/versions/3.10.10/lib/python3.10/site-packages/sympy/integrals/heurisch.py:766\u001b[0m, in \u001b[0;36mheurisch\u001b[0;34m(f, x, rewrite, hints, mappings, retries, degree_offset, unnecessary_permutations, _try_heurisch)\u001b[0m\n\u001b[1;32m    764\u001b[0m \u001b[39melse\u001b[39;00m:\n\u001b[1;32m    765\u001b[0m     \u001b[39mif\u001b[39;00m retries \u001b[39m>\u001b[39m\u001b[39m=\u001b[39m \u001b[39m0\u001b[39m:\n\u001b[0;32m--> 766\u001b[0m         result \u001b[39m=\u001b[39m heurisch(f, x, mappings\u001b[39m=\u001b[39;49mmappings, rewrite\u001b[39m=\u001b[39;49mrewrite, hints\u001b[39m=\u001b[39;49mhints, retries\u001b[39m=\u001b[39;49mretries \u001b[39m-\u001b[39;49m \u001b[39m1\u001b[39;49m, unnecessary_permutations\u001b[39m=\u001b[39;49munnecessary_permutations)\n\u001b[1;32m    768\u001b[0m         \u001b[39mif\u001b[39;00m result \u001b[39mis\u001b[39;00m \u001b[39mnot\u001b[39;00m \u001b[39mNone\u001b[39;00m:\n\u001b[1;32m    769\u001b[0m             \u001b[39mreturn\u001b[39;00m indep\u001b[39m*\u001b[39mresult\n",
      "File \u001b[0;32m~/.pyenv/versions/3.10.10/lib/python3.10/site-packages/sympy/integrals/heurisch.py:766\u001b[0m, in \u001b[0;36mheurisch\u001b[0;34m(f, x, rewrite, hints, mappings, retries, degree_offset, unnecessary_permutations, _try_heurisch)\u001b[0m\n\u001b[1;32m    764\u001b[0m \u001b[39melse\u001b[39;00m:\n\u001b[1;32m    765\u001b[0m     \u001b[39mif\u001b[39;00m retries \u001b[39m>\u001b[39m\u001b[39m=\u001b[39m \u001b[39m0\u001b[39m:\n\u001b[0;32m--> 766\u001b[0m         result \u001b[39m=\u001b[39m heurisch(f, x, mappings\u001b[39m=\u001b[39;49mmappings, rewrite\u001b[39m=\u001b[39;49mrewrite, hints\u001b[39m=\u001b[39;49mhints, retries\u001b[39m=\u001b[39;49mretries \u001b[39m-\u001b[39;49m \u001b[39m1\u001b[39;49m, unnecessary_permutations\u001b[39m=\u001b[39;49munnecessary_permutations)\n\u001b[1;32m    768\u001b[0m         \u001b[39mif\u001b[39;00m result \u001b[39mis\u001b[39;00m \u001b[39mnot\u001b[39;00m \u001b[39mNone\u001b[39;00m:\n\u001b[1;32m    769\u001b[0m             \u001b[39mreturn\u001b[39;00m indep\u001b[39m*\u001b[39mresult\n",
      "File \u001b[0;32m~/.pyenv/versions/3.10.10/lib/python3.10/site-packages/sympy/integrals/heurisch.py:523\u001b[0m, in \u001b[0;36mheurisch\u001b[0;34m(f, x, rewrite, hints, mappings, retries, degree_offset, unnecessary_permutations, _try_heurisch)\u001b[0m\n\u001b[1;32m    521\u001b[0m \u001b[39melse\u001b[39;00m:\n\u001b[1;32m    522\u001b[0m     \u001b[39mif\u001b[39;00m \u001b[39mnot\u001b[39;00m rewrite:\n\u001b[0;32m--> 523\u001b[0m         result \u001b[39m=\u001b[39m heurisch(f, x, rewrite\u001b[39m=\u001b[39;49m\u001b[39mTrue\u001b[39;49;00m, hints\u001b[39m=\u001b[39;49mhints,\n\u001b[1;32m    524\u001b[0m             unnecessary_permutations\u001b[39m=\u001b[39;49munnecessary_permutations)\n\u001b[1;32m    526\u001b[0m         \u001b[39mif\u001b[39;00m result \u001b[39mis\u001b[39;00m \u001b[39mnot\u001b[39;00m \u001b[39mNone\u001b[39;00m:\n\u001b[1;32m    527\u001b[0m             \u001b[39mreturn\u001b[39;00m indep\u001b[39m*\u001b[39mresult\n",
      "File \u001b[0;32m~/.pyenv/versions/3.10.10/lib/python3.10/site-packages/sympy/integrals/heurisch.py:586\u001b[0m, in \u001b[0;36mheurisch\u001b[0;34m(f, x, rewrite, hints, mappings, retries, degree_offset, unnecessary_permutations, _try_heurisch)\u001b[0m\n\u001b[1;32m    583\u001b[0m P, Q \u001b[39m=\u001b[39m F\u001b[39m.\u001b[39mas_numer_denom()\n\u001b[1;32m    585\u001b[0m u_split \u001b[39m=\u001b[39m _splitter(denom)\n\u001b[0;32m--> 586\u001b[0m v_split \u001b[39m=\u001b[39m _splitter(Q)\n\u001b[1;32m    588\u001b[0m polys \u001b[39m=\u001b[39m \u001b[39mset\u001b[39m(\u001b[39mlist\u001b[39m(v_split) \u001b[39m+\u001b[39m [ u_split[\u001b[39m0\u001b[39m] ] \u001b[39m+\u001b[39m \u001b[39mlist\u001b[39m(special\u001b[39m.\u001b[39mkeys()))\n\u001b[1;32m    590\u001b[0m s \u001b[39m=\u001b[39m u_split[\u001b[39m0\u001b[39m] \u001b[39m*\u001b[39m Mul(\u001b[39m*\u001b[39m[ k \u001b[39mfor\u001b[39;00m k, v \u001b[39min\u001b[39;00m special\u001b[39m.\u001b[39mitems() \u001b[39mif\u001b[39;00m v ])\n",
      "File \u001b[0;32m~/.pyenv/versions/3.10.10/lib/python3.10/site-packages/sympy/integrals/heurisch.py:563\u001b[0m, in \u001b[0;36mheurisch.<locals>._splitter\u001b[0;34m(p)\u001b[0m\n\u001b[1;32m    560\u001b[0m         \u001b[39mif\u001b[39;00m s\u001b[39m.\u001b[39mas_poly(y)\u001b[39m.\u001b[39mdegree() \u001b[39m==\u001b[39m \u001b[39m0\u001b[39m:\n\u001b[1;32m    561\u001b[0m             \u001b[39mreturn\u001b[39;00m (c_split[\u001b[39m0\u001b[39m], q \u001b[39m*\u001b[39m c_split[\u001b[39m1\u001b[39m])\n\u001b[0;32m--> 563\u001b[0m         q_split \u001b[39m=\u001b[39m _splitter(cancel(q \u001b[39m/\u001b[39;49m s))\n\u001b[1;32m    565\u001b[0m         \u001b[39mreturn\u001b[39;00m (c_split[\u001b[39m0\u001b[39m]\u001b[39m*\u001b[39mq_split[\u001b[39m0\u001b[39m]\u001b[39m*\u001b[39ms, c_split[\u001b[39m1\u001b[39m]\u001b[39m*\u001b[39mq_split[\u001b[39m1\u001b[39m])\n\u001b[1;32m    567\u001b[0m \u001b[39mreturn\u001b[39;00m (S\u001b[39m.\u001b[39mOne, p)\n",
      "File \u001b[0;32m~/.pyenv/versions/3.10.10/lib/python3.10/site-packages/sympy/integrals/heurisch.py:563\u001b[0m, in \u001b[0;36mheurisch.<locals>._splitter\u001b[0;34m(p)\u001b[0m\n\u001b[1;32m    560\u001b[0m         \u001b[39mif\u001b[39;00m s\u001b[39m.\u001b[39mas_poly(y)\u001b[39m.\u001b[39mdegree() \u001b[39m==\u001b[39m \u001b[39m0\u001b[39m:\n\u001b[1;32m    561\u001b[0m             \u001b[39mreturn\u001b[39;00m (c_split[\u001b[39m0\u001b[39m], q \u001b[39m*\u001b[39m c_split[\u001b[39m1\u001b[39m])\n\u001b[0;32m--> 563\u001b[0m         q_split \u001b[39m=\u001b[39m _splitter(cancel(q \u001b[39m/\u001b[39;49m s))\n\u001b[1;32m    565\u001b[0m         \u001b[39mreturn\u001b[39;00m (c_split[\u001b[39m0\u001b[39m]\u001b[39m*\u001b[39mq_split[\u001b[39m0\u001b[39m]\u001b[39m*\u001b[39ms, c_split[\u001b[39m1\u001b[39m]\u001b[39m*\u001b[39mq_split[\u001b[39m1\u001b[39m])\n\u001b[1;32m    567\u001b[0m \u001b[39mreturn\u001b[39;00m (S\u001b[39m.\u001b[39mOne, p)\n",
      "File \u001b[0;32m~/.pyenv/versions/3.10.10/lib/python3.10/site-packages/sympy/integrals/heurisch.py:551\u001b[0m, in \u001b[0;36mheurisch.<locals>._splitter\u001b[0;34m(p)\u001b[0m\n\u001b[1;32m    548\u001b[0m     \u001b[39mcontinue\u001b[39;00m\n\u001b[1;32m    550\u001b[0m \u001b[39mif\u001b[39;00m _derivation(y) \u001b[39mis\u001b[39;00m \u001b[39mnot\u001b[39;00m S\u001b[39m.\u001b[39mZero:\n\u001b[0;32m--> 551\u001b[0m     c, q \u001b[39m=\u001b[39m p\u001b[39m.\u001b[39;49mas_poly(y)\u001b[39m.\u001b[39;49mprimitive()\n\u001b[1;32m    553\u001b[0m     q \u001b[39m=\u001b[39m q\u001b[39m.\u001b[39mas_expr()\n\u001b[1;32m    555\u001b[0m     h \u001b[39m=\u001b[39m gcd(q, _derivation(q), y)\n",
      "\u001b[0;31mAttributeError\u001b[0m: 'NoneType' object has no attribute 'primitive'"
     ]
    }
   ],
   "source": [
    "res = integrate(inti, (theta, -pi/2, pi/2))\n",
    "res"
   ]
  }
 ],
 "metadata": {
  "kernelspec": {
   "display_name": "Python 3",
   "language": "python",
   "name": "python3"
  },
  "language_info": {
   "codemirror_mode": {
    "name": "ipython",
    "version": 3
   },
   "file_extension": ".py",
   "mimetype": "text/x-python",
   "name": "python",
   "nbconvert_exporter": "python",
   "pygments_lexer": "ipython3",
   "version": "3.10.10"
  },
  "orig_nbformat": 4
 },
 "nbformat": 4,
 "nbformat_minor": 2
}
