{
 "cells": [
  {
   "cell_type": "code",
   "execution_count": 1,
   "metadata": {},
   "outputs": [],
   "source": [
    "import numpy as np\n",
    "import matplotlib.pyplot as plt\n",
    "from sympy import *\n",
    "\n",
    "plt.rcParams['figure.figsize'] = [20, 10]\n"
   ]
  },
  {
   "cell_type": "code",
   "execution_count": 2,
   "metadata": {},
   "outputs": [],
   "source": [
    "x, x0, y, y0, r, r0, theta, theta0, phi, phi0, R = symbols('x x_0 y y_0 r r_0 theta theta0 phi phi_0 R')"
   ]
  },
  {
   "cell_type": "code",
   "execution_count": 3,
   "metadata": {},
   "outputs": [
    {
     "data": {
      "text/latex": [
       "$\\displaystyle \\frac{\\left(1 - r^{2}\\right) \\left(\\sin^{2}{\\left(\\phi \\right)} + \\sin{\\left(\\phi \\right)}\\right)}{r^{2} - 2 r \\cos{\\left(\\phi - \\theta \\right)} + 1}$"
      ],
      "text/plain": [
       "(1 - r**2)*(sin(phi)**2 + sin(phi))/(r**2 - 2*r*cos(phi - theta) + 1)"
      ]
     },
     "execution_count": 3,
     "metadata": {},
     "output_type": "execute_result"
    }
   ],
   "source": [
    "expr =(1-r**2)/(1-2*r*cos(phi-theta)+r**2)*(sin(phi)**2+sin(phi))\n",
    "expr"
   ]
  },
  {
   "cell_type": "code",
   "execution_count": 4,
   "metadata": {},
   "outputs": [
    {
     "data": {
      "text/latex": [
       "$\\displaystyle - \\left(r - 1\\right) \\left(r + 1\\right) \\left(\\int\\limits_{0}^{2 \\pi} \\frac{\\sin{\\left(\\phi \\right)}}{r^{2} - 2 r \\cos{\\left(\\phi - \\theta \\right)} + 1}\\, d\\phi + \\int\\limits_{0}^{2 \\pi} \\frac{\\sin^{2}{\\left(\\phi \\right)}}{r^{2} - 2 r \\cos{\\left(\\phi - \\theta \\right)} + 1}\\, d\\phi\\right)$"
      ],
      "text/plain": [
       "-(r - 1)*(r + 1)*(Integral(sin(phi)/(r**2 - 2*r*cos(phi - theta) + 1), (phi, 0, 2*pi)) + Integral(sin(phi)**2/(r**2 - 2*r*cos(phi - theta) + 1), (phi, 0, 2*pi)))"
      ]
     },
     "execution_count": 4,
     "metadata": {},
     "output_type": "execute_result"
    }
   ],
   "source": [
    "res = integrate(expr, (phi, 0, 2*pi))\n",
    "res"
   ]
  },
  {
   "cell_type": "code",
   "execution_count": null,
   "metadata": {},
   "outputs": [],
   "source": []
  }
 ],
 "metadata": {
  "kernelspec": {
   "display_name": "Python 3",
   "language": "python",
   "name": "python3"
  },
  "language_info": {
   "codemirror_mode": {
    "name": "ipython",
    "version": 3
   },
   "file_extension": ".py",
   "mimetype": "text/x-python",
   "name": "python",
   "nbconvert_exporter": "python",
   "pygments_lexer": "ipython3",
   "version": "3.10.10"
  },
  "orig_nbformat": 4
 },
 "nbformat": 4,
 "nbformat_minor": 2
}
